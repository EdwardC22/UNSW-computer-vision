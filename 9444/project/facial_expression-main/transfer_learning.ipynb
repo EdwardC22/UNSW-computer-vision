{
 "cells": [
  {
   "cell_type": "markdown",
   "metadata": {},
   "source": [
    "# Transfer Learning With Poutyne"
   ]
  },
  {
   "cell_type": "code",
   "execution_count": 1,
   "metadata": {},
   "outputs": [
    {
     "name": "stderr",
     "output_type": "stream",
     "text": [
      "WARNING: Ignoring invalid distribution -pencv-python (c:\\users\\shaun\\appdata\\local\\programs\\python\\python39\\lib\\site-packages)\n",
      "ERROR: Invalid requirement: '#'\n",
      "WARNING: Ignoring invalid distribution -pencv-python (c:\\users\\shaun\\appdata\\local\\programs\\python\\python39\\lib\\site-packages)\n",
      "WARNING: Ignoring invalid distribution -pencv-python (c:\\users\\shaun\\appdata\\local\\programs\\python\\python39\\lib\\site-packages)\n",
      "WARNING: Ignoring invalid distribution -pencv-python (c:\\users\\shaun\\appdata\\local\\programs\\python\\python39\\lib\\site-packages)\n"
     ]
    },
    {
     "name": "stdout",
     "output_type": "stream",
     "text": [
      "Note: you may need to restart the kernel to use updated packages.\n"
     ]
    }
   ],
   "source": [
    "%pip install --upgrade poutyne # to install lastest poutyne version, if it's not already\n",
    "import os\n",
    "import tarfile\n",
    "import urllib.request\n",
    "\n",
    "import matplotlib.pyplot as plt\n",
    "import numpy as np\n",
    "import pandas as pd\n",
    "from zipfile import ZipFile\n",
    "from sklearn.model_selection import train_test_split\n",
    "import torch\n",
    "import torch.nn as nn\n",
    "import torch.optim as optim\n",
    "import torchvision.models as models\n",
    "from torch.utils import model_zoo\n",
    "from torch.utils.data import Subset, DataLoader\n",
    "from torchvision import transforms\n",
    "from torchvision.datasets import ImageFolder\n",
    "\n",
    "from poutyne import set_seeds, Model, ModelCheckpoint, CSVLogger, Experiment"
   ]
  },
  {
   "cell_type": "markdown",
   "metadata": {
    "pycharm": {
     "name": "#%% md\n"
    }
   },
   "source": [
    "Also, we need to set Pythons's, NumPy's and PyTorch's seeds by using Poutyne function so that our training is (almost) reproducible."
   ]
  },
  {
   "cell_type": "code",
   "execution_count": 2,
   "metadata": {
    "pycharm": {
     "name": "#%%\n"
    }
   },
   "outputs": [],
   "source": [
    "set_seeds(42)"
   ]
  },
  {
   "cell_type": "markdown",
   "metadata": {},
   "source": [
    "We download the dataset."
   ]
  },
  {
   "cell_type": "code",
   "execution_count": 3,
   "metadata": {},
   "outputs": [],
   "source": [
    "def download_and_extract_dataset(path):\n",
    "    os.makedirs(path, exist_ok=True)\n",
    "    tgz_filename = os.path.join(path, \"images.tgz\")\n",
    "\n",
    "    print(\"Downloading dataset...\")\n",
    "    urllib.request.urlretrieve(\"https://graal.ift.ulaval.ca/public/CUB200.tgz\", tgz_filename)\n",
    "    print(\"Extracting archive...\")\n",
    "    archive = tarfile.open(tgz_filename)\n",
    "    archive.extractall(path)"
   ]
  },
  {
   "cell_type": "code",
   "execution_count": 4,
   "metadata": {},
   "outputs": [
    {
     "name": "stdout",
     "output_type": "stream",
     "text": [
      "Downloading dataset...\n",
      "Extracting archive...\n"
     ]
    }
   ],
   "source": [
    "base_path = './datasets/CUB200'\n",
    "extract_dest = os.path.join(base_path, 'images')\n",
    "download_and_extract_dataset(base_path)"
   ]
  },
  {
   "cell_type": "markdown",
   "metadata": {},
   "source": [
    "We create our dataset object."
   ]
  },
  {
   "cell_type": "code",
   "execution_count": 5,
   "metadata": {},
   "outputs": [],
   "source": [
    "norm_coefs = {}\n",
    "norm_coefs['cub200'] = [(0.47421962, 0.4914721, 0.42382449), (0.22846779, 0.22387765, 0.26495799)]\n",
    "norm_coefs['imagenet'] = [(0.485, 0.456, 0.406), (0.229, 0.224, 0.225)]\n",
    "transform = transforms.Compose(\n",
    "    [\n",
    "        transforms.Resize((224, 224)),\n",
    "        transforms.ToTensor(),\n",
    "        transforms.Normalize(*norm_coefs['cub200']),\n",
    "    ]\n",
    ")\n",
    "\n",
    "# is_valid_file removes hidden files from the dataset.\n",
    "dataset = ImageFolder(\n",
    "    extract_dest,\n",
    "    transform=transform,\n",
    "    is_valid_file=lambda path: not os.path.split(path)[1].startswith('.'),\n",
    ")"
   ]
  },
  {
   "cell_type": "markdown",
   "metadata": {
    "pycharm": {
     "name": "#%% md\n"
    }
   },
   "source": [
    "We do the split train/valid/test with a 60/20/20 split respectively. We do a *stratified* split with scikit-learn in order to get examples of every class in every split."
   ]
  },
  {
   "cell_type": "code",
   "execution_count": 6,
   "metadata": {},
   "outputs": [],
   "source": [
    "# We take 60% of the dataset for the training dataset\n",
    "train_indices, valid_test_indices = train_test_split(\n",
    "    np.arange(len(dataset)),\n",
    "    train_size=0.6,\n",
    "    stratify=dataset.targets,\n",
    "    random_state=42,\n",
    ")\n",
    "# We take 20% for the validation dataset and 20% for the test dataset\n",
    "# (i.e. 50% of the remaining 40%).\n",
    "valid_indices, test_indices = train_test_split(\n",
    "    valid_test_indices,\n",
    "    train_size=0.5,\n",
    "    stratify=np.asarray(dataset.targets)[valid_test_indices],\n",
    "    random_state=42,\n",
    ")\n",
    "\n",
    "train_dataset = Subset(dataset, train_indices)\n",
    "valid_dataset = Subset(dataset, valid_indices)\n",
    "test_dataset = Subset(dataset, test_indices)"
   ]
  },
  {
   "cell_type": "markdown",
   "metadata": {
    "pycharm": {
     "name": "#%% md\n"
    }
   },
   "source": [
    "Now, let's set our training constants. We first have the CUDA device used for training if one is present. Secondly, we set the number of classes (i.e. one for each number). Finally, we set the batch size (i.e. the number of elements to see before updating the model), the learning rate for the optimizer, and the number of epochs (i.e. the number of times we see the full dataset).\n"
   ]
  },
  {
   "cell_type": "code",
   "execution_count": 7,
   "metadata": {
    "pycharm": {
     "name": "#%%\n"
    }
   },
   "outputs": [],
   "source": [
    "# Training constants\n",
    "cuda_device = 0\n",
    "device = torch.device(\"cuda:%d\" % cuda_device if torch.cuda.is_available() else \"cpu\")\n",
    "\n",
    "num_classes = 200\n",
    "batch_size = 64\n",
    "learning_rate = 0.1\n",
    "n_epoch = 30"
   ]
  },
  {
   "cell_type": "markdown",
   "metadata": {},
   "source": [
    "Creation of the PyTorch's dataloader to split our data into batches."
   ]
  },
  {
   "cell_type": "code",
   "execution_count": 8,
   "metadata": {},
   "outputs": [],
   "source": [
    "train_loader = DataLoader(train_dataset, batch_size=batch_size, num_workers=8, shuffle=True)\n",
    "valid_loader = DataLoader(valid_dataset, batch_size=batch_size, num_workers=8)\n",
    "test_loader = DataLoader(test_dataset, batch_size=batch_size, num_workers=8)"
   ]
  },
  {
   "cell_type": "markdown",
   "metadata": {},
   "source": [
    "We load a pretrained `ResNet-18` networks and replace the head with the number of neurons equal to our number of classes."
   ]
  },
  {
   "cell_type": "code",
   "execution_count": 9,
   "metadata": {
    "scrolled": false
   },
   "outputs": [],
   "source": [
    "resnet18 = models.resnet18(pretrained=True)\n",
    "resnet18.fc = nn.Linear(resnet18.fc.in_features, num_classes)"
   ]
  },
  {
   "cell_type": "markdown",
   "metadata": {},
   "source": [
    "We freeze the network except for its head."
   ]
  },
  {
   "cell_type": "code",
   "execution_count": 10,
   "metadata": {},
   "outputs": [],
   "source": [
    "def freeze_weights(resnet18):\n",
    "    for name, param in resnet18.named_parameters():\n",
    "        if not name.startswith('fc.'):\n",
    "            param.requires_grad = False\n",
    "\n",
    "\n",
    "freeze_weights(resnet18)"
   ]
  },
  {
   "cell_type": "markdown",
   "metadata": {
    "pycharm": {
     "name": "#%% md\n"
    }
   },
   "source": [
    "We define callbacks for saving last epoch, best epoch and logging the results."
   ]
  },
  {
   "cell_type": "code",
   "execution_count": 11,
   "metadata": {
    "pycharm": {
     "name": "#%%\n"
    }
   },
   "outputs": [],
   "source": [
    "# We are saving everything into ./saves/cub200.\n",
    "save_base_dir = 'saves'\n",
    "save_path = os.path.join(save_base_dir, 'cub200')\n",
    "os.makedirs(save_path, exist_ok=True)\n",
    "\n",
    "callbacks = [\n",
    "    # Save the latest weights to be able to resume the optimization at the end for more epochs.\n",
    "    ModelCheckpoint(os.path.join(save_path, 'last_epoch.ckpt')),\n",
    "    # Save the weights in a new file when the current model is better than all previous models.\n",
    "    ModelCheckpoint(\n",
    "        os.path.join(save_path, 'best_epoch_{epoch}.ckpt'),\n",
    "        monitor='val_acc',\n",
    "        mode='max',\n",
    "        save_best_only=True,\n",
    "        restore_best=True,\n",
    "        verbose=True,\n",
    "    ),\n",
    "    # Save the losses and accuracies for each epoch in a TSV.\n",
    "    CSVLogger(os.path.join(save_path, 'log.tsv'), separator='\\t'),\n",
    "]"
   ]
  },
  {
   "cell_type": "markdown",
   "metadata": {},
   "source": [
    "Finally, we start the training and output its final test loss, accuracy, and micro F1-score.\n",
    "\n",
    "> Note that the F1-score is quite similar to the accuracy since the dataset is very balanced."
   ]
  },
  {
   "cell_type": "code",
   "execution_count": 12,
   "metadata": {},
   "outputs": [
    {
     "name": "stdout",
     "output_type": "stream",
     "text": [
      "\u001b[35mEpoch: \u001b[36m 1/30 \u001b[35mTrain steps: \u001b[36m57 \u001b[35mVal steps: \u001b[36m19 \u001b[32m39.34s \u001b[35mloss:\u001b[94m 4.978818\u001b[35m acc:\u001b[94m 5.029014\u001b[35m fscore_macro:\u001b[94m 0.039684\u001b[35m val_loss:\u001b[94m 4.404608\u001b[35m val_acc:\u001b[94m 6.379453\u001b[35m val_fscore_macro:\u001b[94m 0.049241\u001b[0m\n",
      "Epoch 1: val_acc improved from -inf to 6.37945, saving file to saves\\cub200\\best_epoch_1.ckpt\n",
      "\u001b[35mEpoch: \u001b[36m 2/30 \u001b[35mTrain steps: \u001b[36m57 \u001b[35mVal steps: \u001b[36m19 \u001b[32m36.71s \u001b[35mloss:\u001b[94m 3.720372\u001b[35m acc:\u001b[94m 24.758221\u001b[35m fscore_macro:\u001b[94m 0.215321\u001b[35m val_loss:\u001b[94m 3.635850\u001b[35m val_acc:\u001b[94m 21.375311\u001b[35m val_fscore_macro:\u001b[94m 0.161545\u001b[0m\n",
      "Epoch 2: val_acc improved from 6.37945 to 21.37531, saving file to saves\\cub200\\best_epoch_2.ckpt\n",
      "\u001b[35mEpoch: \u001b[36m 3/30 \u001b[35mTrain steps: \u001b[36m57 \u001b[35mVal steps: \u001b[36m19 \u001b[32m38.39s \u001b[35mloss:\u001b[94m 2.918761\u001b[35m acc:\u001b[94m 42.525560\u001b[35m fscore_macro:\u001b[94m 0.389796\u001b[35m val_loss:\u001b[94m 3.176135\u001b[35m val_acc:\u001b[94m 30.240265\u001b[35m val_fscore_macro:\u001b[94m 0.269019\u001b[0m\n",
      "Epoch 3: val_acc improved from 21.37531 to 30.24027, saving file to saves\\cub200\\best_epoch_3.ckpt\n",
      "\u001b[35mEpoch: \u001b[36m 4/30 \u001b[35mTrain steps: \u001b[36m57 \u001b[35mVal steps: \u001b[36m19 \u001b[32m40.08s \u001b[35mloss:\u001b[94m 2.358893\u001b[35m acc:\u001b[94m 55.346781\u001b[35m fscore_macro:\u001b[94m 0.533795\u001b[35m val_loss:\u001b[94m 2.925254\u001b[35m val_acc:\u001b[94m 33.802817\u001b[35m val_fscore_macro:\u001b[94m 0.308913\u001b[0m\n",
      "Epoch 4: val_acc improved from 30.24027 to 33.80282, saving file to saves\\cub200\\best_epoch_4.ckpt\n",
      "\u001b[35mEpoch: \u001b[36m 5/30 \u001b[35mTrain steps: \u001b[36m57 \u001b[35mVal steps: \u001b[36m19 \u001b[32m38.62s \u001b[35mloss:\u001b[94m 1.968704\u001b[35m acc:\u001b[94m 64.714009\u001b[35m fscore_macro:\u001b[94m 0.635180\u001b[35m val_loss:\u001b[94m 2.685543\u001b[35m val_acc:\u001b[94m 40.265120\u001b[35m val_fscore_macro:\u001b[94m 0.365234\u001b[0m\n",
      "Epoch 5: val_acc improved from 33.80282 to 40.26512, saving file to saves\\cub200\\best_epoch_5.ckpt\n",
      "\u001b[35mEpoch: \u001b[36m 6/30 \u001b[35mTrain steps: \u001b[36m57 \u001b[35mVal steps: \u001b[36m19 \u001b[32m39.56s \u001b[35mloss:\u001b[94m 1.696290\u001b[35m acc:\u001b[94m 71.096988\u001b[35m fscore_macro:\u001b[94m 0.706240\u001b[35m val_loss:\u001b[94m 2.528417\u001b[35m val_acc:\u001b[94m 40.927921\u001b[35m val_fscore_macro:\u001b[94m 0.383267\u001b[0m\n",
      "Epoch 6: val_acc improved from 40.26512 to 40.92792, saving file to saves\\cub200\\best_epoch_6.ckpt\n",
      "\u001b[35mEpoch: \u001b[36m 7/30 \u001b[35mTrain steps: \u001b[36m57 \u001b[35mVal steps: \u001b[36m19 \u001b[32m40.93s \u001b[35mloss:\u001b[94m 1.467466\u001b[35m acc:\u001b[94m 76.153634\u001b[35m fscore_macro:\u001b[94m 0.757667\u001b[35m val_loss:\u001b[94m 2.482652\u001b[35m val_acc:\u001b[94m 41.176471\u001b[35m val_fscore_macro:\u001b[94m 0.391138\u001b[0m\n",
      "Epoch 7: val_acc improved from 40.92792 to 41.17647, saving file to saves\\cub200\\best_epoch_7.ckpt\n",
      "\u001b[35mEpoch: \u001b[36m 8/30 \u001b[35mTrain steps: \u001b[36m57 \u001b[35mVal steps: \u001b[36m19 \u001b[32m39.57s \u001b[35mloss:\u001b[94m 1.295805\u001b[35m acc:\u001b[94m 79.497099\u001b[35m fscore_macro:\u001b[94m 0.794096\u001b[35m val_loss:\u001b[94m 2.383095\u001b[35m val_acc:\u001b[94m 43.661972\u001b[35m val_fscore_macro:\u001b[94m 0.412703\u001b[0m\n",
      "Epoch 8: val_acc improved from 41.17647 to 43.66197, saving file to saves\\cub200\\best_epoch_8.ckpt\n",
      "\u001b[35mEpoch: \u001b[36m 9/30 \u001b[35mTrain steps: \u001b[36m57 \u001b[35mVal steps: \u001b[36m19 \u001b[32m40.19s \u001b[35mloss:\u001b[94m 1.155749\u001b[35m acc:\u001b[94m 82.426085\u001b[35m fscore_macro:\u001b[94m 0.824142\u001b[35m val_loss:\u001b[94m 2.321824\u001b[35m val_acc:\u001b[94m 45.153273\u001b[35m val_fscore_macro:\u001b[94m 0.433166\u001b[0m\n",
      "Epoch 9: val_acc improved from 43.66197 to 45.15327, saving file to saves\\cub200\\best_epoch_9.ckpt\n",
      "\u001b[35mEpoch: \u001b[36m10/30 \u001b[35mTrain steps: \u001b[36m57 \u001b[35mVal steps: \u001b[36m19 \u001b[32m41.28s \u001b[35mloss:\u001b[94m 1.030440\u001b[35m acc:\u001b[94m 86.432716\u001b[35m fscore_macro:\u001b[94m 0.865001\u001b[35m val_loss:\u001b[94m 2.262991\u001b[35m val_acc:\u001b[94m 45.318973\u001b[35m val_fscore_macro:\u001b[94m 0.433004\u001b[0m\n",
      "Epoch 10: val_acc improved from 45.15327 to 45.31897, saving file to saves\\cub200\\best_epoch_10.ckpt\n",
      "\u001b[35mEpoch: \u001b[36m11/30 \u001b[35mTrain steps: \u001b[36m57 \u001b[35mVal steps: \u001b[36m19 \u001b[32m57.47s \u001b[35mloss:\u001b[94m 0.936738\u001b[35m acc:\u001b[94m 88.366952\u001b[35m fscore_macro:\u001b[94m 0.884028\u001b[35m val_loss:\u001b[94m 2.256287\u001b[35m val_acc:\u001b[94m 45.981773\u001b[35m val_fscore_macro:\u001b[94m 0.436596\u001b[0m\n",
      "Epoch 11: val_acc improved from 45.31897 to 45.98177, saving file to saves\\cub200\\best_epoch_11.ckpt\n",
      "\u001b[35mEpoch: \u001b[36m12/30 \u001b[35mTrain steps: \u001b[36m57 \u001b[35mVal steps: \u001b[36m19 \u001b[32m1m19.20s \u001b[35mloss:\u001b[94m 0.857720\u001b[35m acc:\u001b[94m 89.555126\u001b[35m fscore_macro:\u001b[94m 0.895726\u001b[35m val_loss:\u001b[94m 2.204251\u001b[35m val_acc:\u001b[94m 46.147473\u001b[35m val_fscore_macro:\u001b[94m 0.443294\u001b[0m\n",
      "Epoch 12: val_acc improved from 45.98177 to 46.14747, saving file to saves\\cub200\\best_epoch_12.ckpt\n",
      "\u001b[35mEpoch: \u001b[36m13/30 \u001b[35mTrain steps: \u001b[36m57 \u001b[35mVal steps: \u001b[36m19 \u001b[32m49.40s \u001b[35mloss:\u001b[94m 0.789653\u001b[35m acc:\u001b[94m 90.936723\u001b[35m fscore_macro:\u001b[94m 0.909577\u001b[35m val_loss:\u001b[94m 2.168017\u001b[35m val_acc:\u001b[94m 46.975973\u001b[35m val_fscore_macro:\u001b[94m 0.450205\u001b[0m\n",
      "Epoch 13: val_acc improved from 46.14747 to 46.97597, saving file to saves\\cub200\\best_epoch_13.ckpt\n",
      "\u001b[35mEpoch: \u001b[36m14/30 \u001b[35mTrain steps: \u001b[36m57 \u001b[35mVal steps: \u001b[36m19 \u001b[32m43.74s \u001b[35mloss:\u001b[94m 0.722289\u001b[35m acc:\u001b[94m 92.677535\u001b[35m fscore_macro:\u001b[94m 0.927712\u001b[35m val_loss:\u001b[94m 2.155423\u001b[35m val_acc:\u001b[94m 48.218724\u001b[35m val_fscore_macro:\u001b[94m 0.473173\u001b[0m\n",
      "Epoch 14: val_acc improved from 46.97597 to 48.21872, saving file to saves\\cub200\\best_epoch_14.ckpt\n",
      "\u001b[35mEpoch: \u001b[36m15/30 \u001b[35mTrain steps: \u001b[36m57 \u001b[35mVal steps: \u001b[36m19 \u001b[32m40.80s \u001b[35mloss:\u001b[94m 0.671110\u001b[35m acc:\u001b[94m 93.340702\u001b[35m fscore_macro:\u001b[94m 0.933818\u001b[35m val_loss:\u001b[94m 2.148647\u001b[35m val_acc:\u001b[94m 48.798675\u001b[35m val_fscore_macro:\u001b[94m 0.475751\u001b[0m\n",
      "Epoch 15: val_acc improved from 48.21872 to 48.79867, saving file to saves\\cub200\\best_epoch_15.ckpt\n",
      "\u001b[35mEpoch: \u001b[36m16/30 \u001b[35mTrain steps: \u001b[36m57 \u001b[35mVal steps: \u001b[36m19 \u001b[32m39.62s \u001b[35mloss:\u001b[94m 0.629743\u001b[35m acc:\u001b[94m 94.252556\u001b[35m fscore_macro:\u001b[94m 0.943260\u001b[35m val_loss:\u001b[94m 2.118543\u001b[35m val_acc:\u001b[94m 48.964375\u001b[35m val_fscore_macro:\u001b[94m 0.477220\u001b[0m\n",
      "Epoch 16: val_acc improved from 48.79867 to 48.96437, saving file to saves\\cub200\\best_epoch_16.ckpt\n",
      "\u001b[35mEpoch: \u001b[36m17/30 \u001b[35mTrain steps: \u001b[36m57 \u001b[35mVal steps: \u001b[36m19 \u001b[32m38.35s \u001b[35mloss:\u001b[94m 0.590260\u001b[35m acc:\u001b[94m 95.053882\u001b[35m fscore_macro:\u001b[94m 0.951145\u001b[35m val_loss:\u001b[94m 2.103574\u001b[35m val_acc:\u001b[94m 49.710025\u001b[35m val_fscore_macro:\u001b[94m 0.482945\u001b[0m\n",
      "Epoch 17: val_acc improved from 48.96437 to 49.71002, saving file to saves\\cub200\\best_epoch_17.ckpt\n",
      "\u001b[35mEpoch: \u001b[36m18/30 \u001b[35mTrain steps: \u001b[36m57 \u001b[35mVal steps: \u001b[36m19 \u001b[32m40.97s \u001b[35mloss:\u001b[94m 0.548863\u001b[35m acc:\u001b[94m 96.131528\u001b[35m fscore_macro:\u001b[94m 0.961959\u001b[35m val_loss:\u001b[94m 2.093742\u001b[35m val_acc:\u001b[94m 48.218724\u001b[35m val_fscore_macro:\u001b[94m 0.468982\u001b[0m\n",
      "\u001b[35mEpoch: \u001b[36m19/30 \u001b[35mTrain steps: \u001b[36m57 \u001b[35mVal steps: \u001b[36m19 \u001b[32m39.21s \u001b[35mloss:\u001b[94m 0.516666\u001b[35m acc:\u001b[94m 97.181542\u001b[35m fscore_macro:\u001b[94m 0.972312\u001b[35m val_loss:\u001b[94m 2.090068\u001b[35m val_acc:\u001b[94m 48.632974\u001b[35m val_fscore_macro:\u001b[94m 0.471095\u001b[0m\n",
      "\u001b[35mEpoch: \u001b[36m20/30 \u001b[35mTrain steps: \u001b[36m57 \u001b[35mVal steps: \u001b[36m19 \u001b[32m39.51s \u001b[35mloss:\u001b[94m 0.490717\u001b[35m acc:\u001b[94m 97.181542\u001b[35m fscore_macro:\u001b[94m 0.971449\u001b[35m val_loss:\u001b[94m 2.075827\u001b[35m val_acc:\u001b[94m 49.212924\u001b[35m val_fscore_macro:\u001b[94m 0.477225\u001b[0m\n",
      "\u001b[35mEpoch: \u001b[36m21/30 \u001b[35mTrain steps: \u001b[36m57 \u001b[35mVal steps: \u001b[36m19 \u001b[32m49.72s \u001b[35mloss:\u001b[94m 0.460353\u001b[35m acc:\u001b[94m 97.955236\u001b[35m fscore_macro:\u001b[94m 0.979992\u001b[35m val_loss:\u001b[94m 2.078269\u001b[35m val_acc:\u001b[94m 49.710025\u001b[35m val_fscore_macro:\u001b[94m 0.484242\u001b[0m\n",
      "Epoch 21: val_acc improved from 49.71002 to 49.71002, saving file to saves\\cub200\\best_epoch_21.ckpt\n",
      "\u001b[35mEpoch: \u001b[36m22/30 \u001b[35mTrain steps: \u001b[36m57 \u001b[35mVal steps: \u001b[36m19 \u001b[32m54.12s \u001b[35mloss:\u001b[94m 0.441691\u001b[35m acc:\u001b[94m 98.121028\u001b[35m fscore_macro:\u001b[94m 0.981820\u001b[35m val_loss:\u001b[94m 2.083584\u001b[35m val_acc:\u001b[94m 49.461475\u001b[35m val_fscore_macro:\u001b[94m 0.479849\u001b[0m\n",
      "\u001b[35mEpoch: \u001b[36m23/30 \u001b[35mTrain steps: \u001b[36m57 \u001b[35mVal steps: \u001b[36m19 \u001b[32m54.86s \u001b[35mloss:\u001b[94m 0.412761\u001b[35m acc:\u001b[94m 98.452611\u001b[35m fscore_macro:\u001b[94m 0.984755\u001b[35m val_loss:\u001b[94m 2.057642\u001b[35m val_acc:\u001b[94m 49.461475\u001b[35m val_fscore_macro:\u001b[94m 0.481989\u001b[0m\n",
      "\u001b[35mEpoch: \u001b[36m24/30 \u001b[35mTrain steps: \u001b[36m57 \u001b[35mVal steps: \u001b[36m19 \u001b[32m54.10s \u001b[35mloss:\u001b[94m 0.396546\u001b[35m acc:\u001b[94m 98.839458\u001b[35m fscore_macro:\u001b[94m 0.988590\u001b[35m val_loss:\u001b[94m 2.056109\u001b[35m val_acc:\u001b[94m 49.130074\u001b[35m val_fscore_macro:\u001b[94m 0.482997\u001b[0m\n"
     ]
    },
    {
     "name": "stdout",
     "output_type": "stream",
     "text": [
      "\u001b[35mEpoch: \u001b[36m25/30 \u001b[35mTrain steps: \u001b[36m57 \u001b[35mVal steps: \u001b[36m19 \u001b[32m52.69s \u001b[35mloss:\u001b[94m 0.378220\u001b[35m acc:\u001b[94m 98.784195\u001b[35m fscore_macro:\u001b[94m 0.988155\u001b[35m val_loss:\u001b[94m 2.049805\u001b[35m val_acc:\u001b[94m 49.627175\u001b[35m val_fscore_macro:\u001b[94m 0.484028\u001b[0m\n",
      "\u001b[35mEpoch: \u001b[36m26/30 \u001b[35mTrain steps: \u001b[36m57 \u001b[35mVal steps: \u001b[36m19 \u001b[32m49.33s \u001b[35mloss:\u001b[94m 0.370279\u001b[35m acc:\u001b[94m 98.922354\u001b[35m fscore_macro:\u001b[94m 0.989537\u001b[35m val_loss:\u001b[94m 2.045434\u001b[35m val_acc:\u001b[94m 49.130075\u001b[35m val_fscore_macro:\u001b[94m 0.475853\u001b[0m\n",
      "\u001b[35mEpoch: \u001b[36m27/30 \u001b[35mTrain steps: \u001b[36m57 \u001b[35mVal steps: \u001b[36m19 \u001b[32m44.66s \u001b[35mloss:\u001b[94m 0.350627\u001b[35m acc:\u001b[94m 99.253938\u001b[35m fscore_macro:\u001b[94m 0.992965\u001b[35m val_loss:\u001b[94m 2.041180\u001b[35m val_acc:\u001b[94m 50.704225\u001b[35m val_fscore_macro:\u001b[94m 0.494226\u001b[0m\n",
      "Epoch 27: val_acc improved from 49.71002 to 50.70423, saving file to saves\\cub200\\best_epoch_27.ckpt\n",
      "\u001b[35mEpoch: \u001b[36m28/30 \u001b[35mTrain steps: \u001b[36m57 \u001b[35mVal steps: \u001b[36m19 \u001b[32m45.18s \u001b[35mloss:\u001b[94m 0.332832\u001b[35m acc:\u001b[94m 99.226306\u001b[35m fscore_macro:\u001b[94m 0.992411\u001b[35m val_loss:\u001b[94m 2.043334\u001b[35m val_acc:\u001b[94m 49.212925\u001b[35m val_fscore_macro:\u001b[94m 0.476270\u001b[0m\n",
      "\u001b[35mEpoch: \u001b[36m29/30 \u001b[35mTrain steps: \u001b[36m57 \u001b[35mVal steps: \u001b[36m19 \u001b[32m43.86s \u001b[35mloss:\u001b[94m 0.323238\u001b[35m acc:\u001b[94m 99.336833\u001b[35m fscore_macro:\u001b[94m 0.993683\u001b[35m val_loss:\u001b[94m 2.052169\u001b[35m val_acc:\u001b[94m 50.538525\u001b[35m val_fscore_macro:\u001b[94m 0.491494\u001b[0m\n",
      "\u001b[35mEpoch: \u001b[36m30/30 \u001b[35mTrain steps: \u001b[36m57 \u001b[35mVal steps: \u001b[36m19 \u001b[32m45.48s \u001b[35mloss:\u001b[94m 0.308821\u001b[35m acc:\u001b[94m 99.392097\u001b[35m fscore_macro:\u001b[94m 0.994019\u001b[35m val_loss:\u001b[94m 2.038780\u001b[35m val_acc:\u001b[94m 50.124275\u001b[35m val_fscore_macro:\u001b[94m 0.487727\u001b[0m\n",
      "Restoring data from saves\\cub200\\best_epoch_27.ckpt\n",
      "\u001b[35mTest steps: \u001b[36m19 \u001b[32m19.11s \u001b[35mtest_loss:\u001b[94m 2.004838\u001b[35m test_acc:\u001b[94m 51.284176\u001b[35m test_fscore_macro:\u001b[94m 0.510672\u001b[0m            \n"
     ]
    }
   ],
   "source": [
    "optimizer = optim.SGD(resnet18.fc.parameters(), lr=learning_rate, weight_decay=0.001)\n",
    "loss_function = nn.CrossEntropyLoss()\n",
    "\n",
    "model = Model(\n",
    "    resnet18,\n",
    "    optimizer,\n",
    "    loss_function,\n",
    "    batch_metrics=['accuracy'],\n",
    "    epoch_metrics=['f1'],\n",
    "    device=device,\n",
    ")\n",
    "\n",
    "model.fit_generator(\n",
    "    train_loader,\n",
    "    valid_loader,\n",
    "    epochs=n_epoch,\n",
    "    callbacks=callbacks,\n",
    ")\n",
    "\n",
    "test_loss, (test_acc, test_f1) = model.evaluate_generator(test_loader)"
   ]
  },
  {
   "cell_type": "code",
   "execution_count": 13,
   "metadata": {
    "scrolled": false
   },
   "outputs": [
    {
     "name": "stdout",
     "output_type": "stream",
     "text": [
      "    epoch       time   lr      loss        acc  fscore_macro  val_loss  \\\n",
      "0       1  39.336709  0.1  4.978818   5.029014      0.039684  4.404608   \n",
      "1       2  36.709232  0.1  3.720372  24.758221      0.215321  3.635850   \n",
      "2       3  38.385235  0.1  2.918761  42.525560      0.389796  3.176135   \n",
      "3       4  40.082928  0.1  2.358893  55.346781      0.533795  2.925254   \n",
      "4       5  38.620391  0.1  1.968704  64.714009      0.635180  2.685543   \n",
      "5       6  39.559011  0.1  1.696290  71.096988      0.706240  2.528417   \n",
      "6       7  40.929801  0.1  1.467466  76.153634      0.757667  2.482652   \n",
      "7       8  39.569835  0.1  1.295805  79.497099      0.794096  2.383095   \n",
      "8       9  40.190013  0.1  1.155749  82.426085      0.824142  2.321824   \n",
      "9      10  41.282698  0.1  1.030440  86.432716      0.865001  2.262991   \n",
      "10     11  57.474735  0.1  0.936738  88.366952      0.884028  2.256287   \n",
      "11     12  79.203603  0.1  0.857720  89.555126      0.895726  2.204251   \n",
      "12     13  49.404491  0.1  0.789653  90.936723      0.909577  2.168017   \n",
      "13     14  43.739736  0.1  0.722289  92.677535      0.927712  2.155423   \n",
      "14     15  40.801055  0.1  0.671110  93.340702      0.933818  2.148647   \n",
      "15     16  39.621818  0.1  0.629743  94.252556      0.943260  2.118543   \n",
      "16     17  38.345490  0.1  0.590260  95.053882      0.951145  2.103574   \n",
      "17     18  40.968078  0.1  0.548863  96.131528      0.961959  2.093742   \n",
      "18     19  39.207946  0.1  0.516666  97.181542      0.972312  2.090068   \n",
      "19     20  39.511703  0.1  0.490717  97.181542      0.971449  2.075827   \n",
      "20     21  49.717195  0.1  0.460353  97.955236      0.979992  2.078269   \n",
      "21     22  54.117574  0.1  0.441691  98.121028      0.981820  2.083584   \n",
      "22     23  54.859251  0.1  0.412761  98.452611      0.984755  2.057642   \n",
      "23     24  54.095020  0.1  0.396546  98.839458      0.988590  2.056109   \n",
      "24     25  52.686953  0.1  0.378220  98.784195      0.988155  2.049805   \n",
      "25     26  49.327199  0.1  0.370279  98.922354      0.989537  2.045434   \n",
      "26     27  44.660438  0.1  0.350627  99.253938      0.992965  2.041180   \n",
      "27     28  45.181976  0.1  0.332832  99.226306      0.992411  2.043334   \n",
      "28     29  43.855905  0.1  0.323238  99.336833      0.993683  2.052169   \n",
      "29     30  45.484198  0.1  0.308821  99.392097      0.994019  2.038780   \n",
      "\n",
      "      val_acc  val_fscore_macro  \n",
      "0    6.379453          0.049241  \n",
      "1   21.375311          0.161545  \n",
      "2   30.240265          0.269019  \n",
      "3   33.802817          0.308913  \n",
      "4   40.265120          0.365234  \n",
      "5   40.927921          0.383267  \n",
      "6   41.176471          0.391138  \n",
      "7   43.661972          0.412703  \n",
      "8   45.153273          0.433166  \n",
      "9   45.318973          0.433004  \n",
      "10  45.981773          0.436596  \n",
      "11  46.147473          0.443294  \n",
      "12  46.975973          0.450205  \n",
      "13  48.218724          0.473173  \n",
      "14  48.798675          0.475751  \n",
      "15  48.964375          0.477220  \n",
      "16  49.710025          0.482945  \n",
      "17  48.218724          0.468982  \n",
      "18  48.632974          0.471095  \n",
      "19  49.212924          0.477225  \n",
      "20  49.710025          0.484242  \n",
      "21  49.461475          0.479849  \n",
      "22  49.461475          0.481989  \n",
      "23  49.130074          0.482997  \n",
      "24  49.627175          0.484028  \n",
      "25  49.130075          0.475853  \n",
      "26  50.704225          0.494226  \n",
      "27  49.212925          0.476270  \n",
      "28  50.538525          0.491494  \n",
      "29  50.124275          0.487727  \n",
      "Best epoch: 27\n"
     ]
    }
   ],
   "source": [
    "logs = pd.read_csv(os.path.join(save_path, 'log.tsv'), sep='\\t')\n",
    "print(logs)\n",
    "\n",
    "best_epoch_idx = logs['val_acc'].idxmax()\n",
    "best_epoch = int(logs.loc[best_epoch_idx]['epoch'])\n",
    "print(\"Best epoch: %d\" % best_epoch)"
   ]
  },
  {
   "cell_type": "code",
   "execution_count": 14,
   "metadata": {
    "scrolled": true
   },
   "outputs": [
    {
     "data": {
      "image/png": "[encoded data removed]",
      "text/plain": [
       "<Figure size 432x288 with 1 Axes>"
      ]
     },
     "metadata": {
      "needs_background": "light"
     },
     "output_type": "display_data"
    }
   ],
   "source": [
    "metrics = ['loss', 'val_loss']\n",
    "plt.plot(logs['epoch'], logs[metrics])\n",
    "plt.legend(metrics)\n",
    "plt.show()"
   ]
  },
  {
   "cell_type": "code",
   "execution_count": 15,
   "metadata": {
    "pycharm": {
     "name": "#%%\n"
    }
   },
   "outputs": [
    {
     "data": {
      "image/png": "[encoded data removed]",
      "text/plain": [
       "<Figure size 432x288 with 1 Axes>"
      ]
     },
     "metadata": {
      "needs_background": "light"
     },
     "output_type": "display_data"
    }
   ],
   "source": [
    "metrics = ['acc', 'val_acc']\n",
    "plt.plot(logs['epoch'], logs[metrics])\n",
    "plt.legend(metrics)\n",
    "plt.show()"
   ]
  },
  {
   "cell_type": "markdown",
   "metadata": {},
   "source": [
    "Since we have created checkpoints using callbacks, we can restore the best model from those checkpoints and test it."
   ]
  },
  {
   "cell_type": "code",
   "execution_count": 16,
   "metadata": {
    "pycharm": {
     "name": "#%%\n"
    }
   },
   "outputs": [
    {
     "name": "stdout",
     "output_type": "stream",
     "text": [
      "\u001b[35mTest steps: \u001b[36m19 \u001b[32m15.35s \u001b[35mtest_loss:\u001b[94m 2.004838\u001b[35m test_acc:\u001b[94m 51.284176\u001b[35m test_fscore_macro:\u001b[94m 0.510672\u001b[0m            \n"
     ]
    }
   ],
   "source": [
    "resnet18 = models.resnet18(pretrained=False, num_classes=num_classes)\n",
    "\n",
    "model = Model(\n",
    "    resnet18,\n",
    "    'sgd',\n",
    "    'cross_entropy',\n",
    "    batch_metrics=['accuracy'],\n",
    "    epoch_metrics=['f1'],\n",
    "    device=device,\n",
    ")\n",
    "\n",
    "model.load_weights(os.path.join(save_path, 'best_epoch_{epoch}.ckpt').format(epoch=best_epoch))\n",
    "\n",
    "test_loss, (test_acc, test_f1) = model.evaluate_generator(test_loader)"
   ]
  },
  {
   "cell_type": "markdown",
   "metadata": {},
   "source": [
    "We can also use the Experiment class to train our network. This class saves checkpoints and logs as above in a directory and allows to stop and resume optimization at will. See documentation for details."
   ]
  },
  {
   "cell_type": "code",
   "execution_count": 17,
   "metadata": {},
   "outputs": [],
   "source": [
    "def experiment_train(epochs):\n",
    "    # Reload the pretrained network and freeze it except for its head.\n",
    "    resnet18 = models.resnet18(pretrained=True)\n",
    "    resnet18.fc = nn.Linear(resnet18.fc.in_features, num_classes)\n",
    "    freeze_weights(resnet18)\n",
    "\n",
    "    # Saves everything into ./saves/cub200_resnet18_experiment\n",
    "    save_path = os.path.join(save_base_dir, 'cub200_resnet18_experiment')\n",
    "\n",
    "    optimizer = optim.SGD(resnet18.fc.parameters(), lr=learning_rate, weight_decay=0.001)\n",
    "\n",
    "    # Poutyne Experiment\n",
    "    exp = Experiment(\n",
    "        save_path,\n",
    "        resnet18,\n",
    "        device=device,\n",
    "        optimizer=optimizer,\n",
    "        task='classif',\n",
    "    )\n",
    "\n",
    "    # Train\n",
    "    exp.train(train_loader, valid_loader, epochs=epochs)\n",
    "\n",
    "    # Test\n",
    "    exp.test(test_loader)"
   ]
  },
  {
   "cell_type": "markdown",
   "metadata": {},
   "source": [
    "Let’s train for 5 epochs."
   ]
  },
  {
   "cell_type": "code",
   "execution_count": 18,
   "metadata": {
    "scrolled": false
   },
   "outputs": [
    {
     "name": "stdout",
     "output_type": "stream",
     "text": [
      "\u001b[35mEpoch: \u001b[36m1/5 \u001b[35mTrain steps: \u001b[36m57 \u001b[35mVal steps: \u001b[36m19 \u001b[32m36.63s \u001b[35mloss:\u001b[94m 4.970873\u001b[35m acc:\u001b[94m 5.167173\u001b[35m fscore_macro:\u001b[94m 0.037896\u001b[35m val_loss:\u001b[94m 4.425690\u001b[35m val_acc:\u001b[94m 8.119304\u001b[35m val_fscore_macro:\u001b[94m 0.056513\u001b[0m\n",
      "Epoch 1: val_acc improved from -inf to 8.11930, saving file to saves\\cub200_resnet18_experiment\\checkpoint_epoch_1.ckpt\n",
      "\u001b[35mEpoch: \u001b[36m2/5 \u001b[35mTrain steps: \u001b[36m57 \u001b[35mVal steps: \u001b[36m19 \u001b[32m39.85s \u001b[35mloss:\u001b[94m 3.717953\u001b[35m acc:\u001b[94m 24.868748\u001b[35m fscore_macro:\u001b[94m 0.218832\u001b[35m val_loss:\u001b[94m 3.649325\u001b[35m val_acc:\u001b[94m 22.535211\u001b[35m val_fscore_macro:\u001b[94m 0.187761\u001b[0m\n",
      "Epoch 2: val_acc improved from 8.11930 to 22.53521, saving file to saves\\cub200_resnet18_experiment\\checkpoint_epoch_2.ckpt\n",
      "\u001b[35mEpoch: \u001b[36m3/5 \u001b[35mTrain steps: \u001b[36m57 \u001b[35mVal steps: \u001b[36m19 \u001b[32m42.89s \u001b[35mloss:\u001b[94m 2.908639\u001b[35m acc:\u001b[94m 44.072948\u001b[35m fscore_macro:\u001b[94m 0.412258\u001b[35m val_loss:\u001b[94m 3.239816\u001b[35m val_acc:\u001b[94m 28.748964\u001b[35m val_fscore_macro:\u001b[94m 0.256008\u001b[0m\n",
      "Epoch 3: val_acc improved from 22.53521 to 28.74896, saving file to saves\\cub200_resnet18_experiment\\checkpoint_epoch_3.ckpt\n",
      "\u001b[35mEpoch: \u001b[36m4/5 \u001b[35mTrain steps: \u001b[36m57 \u001b[35mVal steps: \u001b[36m19 \u001b[32m45.61s \u001b[35mloss:\u001b[94m 2.367300\u001b[35m acc:\u001b[94m 55.263885\u001b[35m fscore_macro:\u001b[94m 0.529713\u001b[35m val_loss:\u001b[94m 2.910698\u001b[35m val_acc:\u001b[94m 34.962717\u001b[35m val_fscore_macro:\u001b[94m 0.314606\u001b[0m\n",
      "Epoch 4: val_acc improved from 28.74896 to 34.96272, saving file to saves\\cub200_resnet18_experiment\\checkpoint_epoch_4.ckpt\n",
      "\u001b[35mEpoch: \u001b[36m5/5 \u001b[35mTrain steps: \u001b[36m57 \u001b[35mVal steps: \u001b[36m19 \u001b[32m46.95s \u001b[35mloss:\u001b[94m 1.975524\u001b[35m acc:\u001b[94m 65.377176\u001b[35m fscore_macro:\u001b[94m 0.642524\u001b[35m val_loss:\u001b[94m 2.751124\u001b[35m val_acc:\u001b[94m 36.536868\u001b[35m val_fscore_macro:\u001b[94m 0.349689\u001b[0m\n",
      "Epoch 5: val_acc improved from 34.96272 to 36.53687, saving file to saves\\cub200_resnet18_experiment\\checkpoint_epoch_5.ckpt\n",
      "Restoring data from saves\\cub200_resnet18_experiment\\checkpoint_epoch_5.ckpt\n",
      "Found best checkpoint at epoch: 5\n",
      "lr: 0.1, loss: 1.97552, acc: 65.3772, fscore_macro: 0.642524, val_loss: 2.75112, val_acc: 36.5369, val_fscore_macro: 0.349689\n",
      "Loading checkpoint saves\\cub200_resnet18_experiment\\checkpoint_epoch_5.ckpt\n",
      "Running test\n",
      "\u001b[35mTest steps: \u001b[36m19 \u001b[32m17.86s \u001b[35mtest_loss:\u001b[94m 2.696764\u001b[35m test_acc:\u001b[94m 38.856670\u001b[35m test_fscore_macro:\u001b[94m 0.374390\u001b[0m            \n"
     ]
    }
   ],
   "source": [
    "experiment_train(epochs=5)"
   ]
  },
  {
   "cell_type": "markdown",
   "metadata": {},
   "source": [
    "Let’s train for 5 more epochs (10 epochs total)."
   ]
  },
  {
   "cell_type": "code",
   "execution_count": 19,
   "metadata": {
    "scrolled": false
   },
   "outputs": [
    {
     "name": "stdout",
     "output_type": "stream",
     "text": [
      "Loading weights from saves\\cub200_resnet18_experiment\\checkpoint.ckpt and starting at epoch 6.\n",
      "Loading optimizer state from saves\\cub200_resnet18_experiment\\checkpoint.optim and starting at epoch 6.\n",
      "\u001b[35mEpoch: \u001b[36m 6/10 \u001b[35mTrain steps: \u001b[36m57 \u001b[35mVal steps: \u001b[36m19 \u001b[32m38.34s \u001b[35mloss:\u001b[94m 1.682145\u001b[35m acc:\u001b[94m 72.285162\u001b[35m fscore_macro:\u001b[94m 0.714644\u001b[35m val_loss:\u001b[94m 2.619942\u001b[35m val_acc:\u001b[94m 38.856669\u001b[35m val_fscore_macro:\u001b[94m 0.364058\u001b[0m\n",
      "Epoch 6: val_acc improved from 36.53687 to 38.85667, saving file to saves\\cub200_resnet18_experiment\\checkpoint_epoch_6.ckpt\n",
      "\u001b[35mEpoch: \u001b[36m 7/10 \u001b[35mTrain steps: \u001b[36m57 \u001b[35mVal steps: \u001b[36m19 \u001b[32m40.24s \u001b[35mloss:\u001b[94m 1.451036\u001b[35m acc:\u001b[94m 76.181266\u001b[35m fscore_macro:\u001b[94m 0.759764\u001b[35m val_loss:\u001b[94m 2.480303\u001b[35m val_acc:\u001b[94m 42.419221\u001b[35m val_fscore_macro:\u001b[94m 0.395808\u001b[0m\n",
      "Epoch 7: val_acc improved from 38.85667 to 42.41922, saving file to saves\\cub200_resnet18_experiment\\checkpoint_epoch_7.ckpt\n",
      "\u001b[35mEpoch: \u001b[36m 8/10 \u001b[35mTrain steps: \u001b[36m57 \u001b[35mVal steps: \u001b[36m19 \u001b[32m43.93s \u001b[35mloss:\u001b[94m 1.285407\u001b[35m acc:\u001b[94m 80.105001\u001b[35m fscore_macro:\u001b[94m 0.800183\u001b[35m val_loss:\u001b[94m 2.417424\u001b[35m val_acc:\u001b[94m 44.324772\u001b[35m val_fscore_macro:\u001b[94m 0.416435\u001b[0m\n",
      "Epoch 8: val_acc improved from 42.41922 to 44.32477, saving file to saves\\cub200_resnet18_experiment\\checkpoint_epoch_8.ckpt\n",
      "\u001b[35mEpoch: \u001b[36m 9/10 \u001b[35mTrain steps: \u001b[36m57 \u001b[35mVal steps: \u001b[36m19 \u001b[32m42.77s \u001b[35mloss:\u001b[94m 1.153105\u001b[35m acc:\u001b[94m 83.144515\u001b[35m fscore_macro:\u001b[94m 0.830610\u001b[35m val_loss:\u001b[94m 2.341583\u001b[35m val_acc:\u001b[94m 43.993372\u001b[35m val_fscore_macro:\u001b[94m 0.420970\u001b[0m\n",
      "\u001b[35mEpoch: \u001b[36m10/10 \u001b[35mTrain steps: \u001b[36m57 \u001b[35mVal steps: \u001b[36m19 \u001b[32m46.91s \u001b[35mloss:\u001b[94m 1.033058\u001b[35m acc:\u001b[94m 85.935341\u001b[35m fscore_macro:\u001b[94m 0.859494\u001b[35m val_loss:\u001b[94m 2.304860\u001b[35m val_acc:\u001b[94m 45.070423\u001b[35m val_fscore_macro:\u001b[94m 0.431087\u001b[0m\n",
      "Epoch 10: val_acc improved from 44.32477 to 45.07042, saving file to saves\\cub200_resnet18_experiment\\checkpoint_epoch_10.ckpt\n",
      "Restoring data from saves\\cub200_resnet18_experiment\\checkpoint_epoch_10.ckpt\n",
      "Found best checkpoint at epoch: 10\n",
      "lr: 0.1, loss: 1.03306, acc: 85.9353, fscore_macro: 0.859494, val_loss: 2.30486, val_acc: 45.0704, val_fscore_macro: 0.431087\n",
      "Loading checkpoint saves\\cub200_resnet18_experiment\\checkpoint_epoch_10.ckpt\n",
      "Running test\n",
      "\u001b[35mTest steps: \u001b[36m19 \u001b[32m18.17s \u001b[35mtest_loss:\u001b[94m 2.243594\u001b[35m test_acc:\u001b[94m 47.390224\u001b[35m test_fscore_macro:\u001b[94m 0.469405\u001b[0m            \n"
     ]
    }
   ],
   "source": [
    "# Retrain for 5 more epochs\n",
    "experiment_train(epochs=10)"
   ]
  }
 ],
 "metadata": {
  "accelerator": "GPU",
  "kernelspec": {
   "display_name": "Python 3 (ipykernel)",
   "language": "python",
   "name": "python3"
  },
  "language_info": {
   "codemirror_mode": {
    "name": "ipython",
    "version": 3
   },
   "file_extension": ".py",
   "mimetype": "text/x-python",
   "name": "python",
   "nbconvert_exporter": "python",
   "pygments_lexer": "ipython3",
   "version": "3.9.5"
  }
 },
 "nbformat": 4,
 "nbformat_minor": 2
}
