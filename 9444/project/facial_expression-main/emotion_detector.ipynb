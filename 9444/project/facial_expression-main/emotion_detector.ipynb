{
 "cells": [
  {
   "cell_type": "code",
   "execution_count": null,
   "metadata": {},
   "outputs": [],
   "source": [
    "!pip install tensorflow"
   ]
  },
  {
   "cell_type": "code",
   "execution_count": 1,
   "metadata": {
    "_cell_guid": "b1076dfc-b9ad-4769-8c92-a6c4dae69d19",
    "_uuid": "8f2839f25d086af736a60e9eeb907d3b93b6e0e5"
   },
   "outputs": [],
   "source": [
    "import numpy as np # linear algebra\n",
    "import pandas as pd # data processing, CSV file I/O (e.g. pd.read_csv)\n",
    "import os\n",
    "#for dirname, _, filenames in os.walk('/kaggle/input'):\n",
    "    #for filename in filenames:\n",
    "        #print(os.path.join(dirname, filename))\n",
    "import matplotlib.pyplot as plt\n",
    "import seaborn as sns\n",
    "import tensorflow as tf\n",
    "from keras.preprocessing import image\n",
    "from keras.models import Sequential\n",
    "from keras.layers import Conv2D, MaxPool2D, Flatten,Dense,Dropout,BatchNormalization\n",
    "from tensorflow.keras.preprocessing.image import ImageDataGenerator\n",
    "import cv2\n",
    "from tensorflow.keras.applications import VGG16, InceptionResNetV2\n",
    "from keras import regularizers\n",
    "from tensorflow.keras.optimizers import Adam,RMSprop,SGD,Adamax"
   ]
  },
  {
   "cell_type": "code",
   "execution_count": 2,
   "metadata": {},
   "outputs": [],
   "source": [
    "train_dir = \"./datasets/facial_recognition/images/train\" #passing the path with training images\n",
    "test_dir = \"./datasets/facial_recognition/images/test\"   #passing the path with testing images"
   ]
  },
  {
   "cell_type": "code",
   "execution_count": 3,
   "metadata": {},
   "outputs": [],
   "source": [
    "img_size = 48 #original size of the image"
   ]
  },
  {
   "cell_type": "code",
   "execution_count": 5,
   "metadata": {},
   "outputs": [],
   "source": [
    "\"\"\"\n",
    "Data Augmentation\n",
    "--------------------------\n",
    "rotation_range = rotates the image with the amount of degrees we provide\n",
    "width_shift_range = shifts the image randomly to the right or left along the width of the image\n",
    "height_shift range = shifts image randomly to up or below along the height of the image\n",
    "horizontal_flip = flips the image horizontally\n",
    "rescale = to scale down the pizel values in our image between 0 and 1\n",
    "zoom_range = applies random zoom to our object\n",
    "validation_split = reserves some images to be used for validation purpose\n",
    "\"\"\"\n",
    "\n",
    "train_datagen = ImageDataGenerator(#rotation_range = 180,\n",
    "                                         width_shift_range = 0.1,\n",
    "                                         height_shift_range = 0.1,\n",
    "                                         horizontal_flip = True,\n",
    "                                         rescale = 1./255,\n",
    "                                         #zoom_range = 0.2,\n",
    "                                         validation_split = 0.2\n",
    "                                        )\n",
    "validation_datagen = ImageDataGenerator(rescale = 1./255,\n",
    "                                         validation_split = 0.2)"
   ]
  },
  {
   "cell_type": "code",
   "execution_count": 6,
   "metadata": {},
   "outputs": [
    {
     "name": "stdout",
     "output_type": "stream",
     "text": [
      "Found 22968 images belonging to 7 classes.\n",
      "Found 1432 images belonging to 7 classes.\n"
     ]
    }
   ],
   "source": [
    "\"\"\"\n",
    "Applying data augmentation to the images as we read \n",
    "them from their respectivve directories\n",
    "\"\"\"\n",
    "train_generator = train_datagen.flow_from_directory(directory = train_dir,\n",
    "                                                    target_size = (img_size,img_size),\n",
    "                                                    batch_size = 64,\n",
    "                                                    color_mode = \"grayscale\",\n",
    "                                                    class_mode = \"categorical\",\n",
    "                                                    subset = \"training\"\n",
    "                                                   )\n",
    "validation_generator = validation_datagen.flow_from_directory( directory = test_dir,\n",
    "                                                              target_size = (img_size,img_size),\n",
    "                                                              batch_size = 64,\n",
    "                                                              color_mode = \"grayscale\",\n",
    "                                                              class_mode = \"categorical\",\n",
    "                                                              subset = \"validation\"\n",
    "                                                             )"
   ]
  },
  {
   "cell_type": "code",
   "execution_count": null,
   "metadata": {},
   "outputs": [],
   "source": [
    "\"\"\"\n",
    "Modeling\n",
    "\n",
    "\n",
    "model = Sequential()\n",
    "model.add(Conv2D(filters = 64,kernel_size = (3,3),padding = 'same',activation = 'relu',input_shape=(img_size,img_size,1)))\n",
    "model.add(MaxPool2D(pool_size = 2,strides = 2))\n",
    "model.add(BatchNormalization())\n",
    "\n",
    "model.add(Conv2D(filters = 128,kernel_size = (3,3),padding = 'same',activation = 'relu'))\n",
    "model.add(MaxPool2D(pool_size = 2,strides = 2))\n",
    "model.add(BatchNormalization())\n",
    "model.add(Dropout(0.25))\n",
    "\n",
    "model.add(Conv2D(filters = 128,kernel_size = (3,3),padding = 'same',activation = 'relu'))\n",
    "model.add(MaxPool2D(pool_size = 2,strides = 2))\n",
    "model.add(BatchNormalization())\n",
    "model.add(Dropout(0.25))\n",
    "\n",
    "model.add(Conv2D(filters = 256,kernel_size = (3,3),padding = 'same',activation = 'relu'))\n",
    "model.add(MaxPool2D(pool_size = 2,strides = 2))\n",
    "model.add(BatchNormalization())\n",
    "\n",
    "model.add(Flatten())\n",
    "model.add(Dense(units = 128,activation = 'relu',kernel_initializer='he_normal'))\n",
    "model.add(Dropout(0.25))\n",
    "model.add(Dense(units = 64,activation = 'relu',kernel_initializer='he_normal'))\n",
    "model.add(BatchNormalization())\n",
    "model.add(Dropout(0.25))\n",
    "model.add(Dense(units = 32,activation = 'relu',kernel_initializer='he_normal'))\n",
    "model.add(Dense(7,activation = 'softmax'))\n",
    "\n",
    "\"\"\""
   ]
  },
  {
   "cell_type": "code",
   "execution_count": 7,
   "metadata": {},
   "outputs": [
    {
     "name": "stderr",
     "output_type": "stream",
     "text": [
      "c:\\users\\shaun\\appdata\\local\\programs\\python\\python39\\lib\\site-packages\\keras\\optimizers\\optimizer_v2\\adam.py:110: UserWarning: The `lr` argument is deprecated, use `learning_rate` instead.\n",
      "  super(Adam, self).__init__(name, **kwargs)\n"
     ]
    }
   ],
   "source": [
    "model= tf.keras.models.Sequential()\n",
    "model.add(Conv2D(32, kernel_size=(3, 3), padding='same', activation='relu', input_shape=(48, 48,1)))\n",
    "model.add(Conv2D(64,(3,3), padding='same', activation='relu' ))\n",
    "model.add(BatchNormalization())\n",
    "model.add(MaxPool2D(pool_size=(2, 2)))\n",
    "model.add(Dropout(0.25))\n",
    "\n",
    "model.add(Conv2D(128,(5,5), padding='same', activation='relu'))\n",
    "model.add(BatchNormalization())\n",
    "model.add(MaxPool2D(pool_size=(2, 2)))\n",
    "model.add(Dropout(0.25))\n",
    "    \n",
    "model.add(Conv2D(512,(3,3), padding='same', activation='relu', kernel_regularizer=regularizers.l2(0.01)))\n",
    "model.add(BatchNormalization())\n",
    "model.add(MaxPool2D(pool_size=(2, 2)))\n",
    "model.add(Dropout(0.25))\n",
    "\n",
    "model.add(Conv2D(512,(3,3), padding='same', activation='relu', kernel_regularizer=regularizers.l2(0.01)))\n",
    "model.add(BatchNormalization())\n",
    "model.add(MaxPool2D(pool_size=(2, 2)))\n",
    "model.add(Dropout(0.25))\n",
    "\n",
    "model.add(Flatten()) \n",
    "model.add(Dense(256,activation = 'relu'))\n",
    "model.add(BatchNormalization())\n",
    "model.add(Dropout(0.25))\n",
    "    \n",
    "model.add(Dense(512,activation = 'relu'))\n",
    "model.add(BatchNormalization())\n",
    "model.add(Dropout(0.25))\n",
    "\n",
    "model.add(Dense(7, activation='softmax'))\n",
    "\n",
    "model.compile(\n",
    "    optimizer = Adam(lr=0.0001), \n",
    "    loss='categorical_crossentropy', \n",
    "    metrics=['accuracy']\n",
    "  )"
   ]
  },
  {
   "cell_type": "code",
   "execution_count": 8,
   "metadata": {},
   "outputs": [],
   "source": [
    "epochs = 60\n",
    "batch_size = 64"
   ]
  },
  {
   "cell_type": "code",
   "execution_count": 9,
   "metadata": {},
   "outputs": [
    {
     "name": "stdout",
     "output_type": "stream",
     "text": [
      "Model: \"sequential\"\n",
      "_________________________________________________________________\n",
      " Layer (type)                Output Shape              Param #   \n",
      "=================================================================\n",
      " conv2d (Conv2D)             (None, 48, 48, 32)        320       \n",
      "                                                                 \n",
      " conv2d_1 (Conv2D)           (None, 48, 48, 64)        18496     \n",
      "                                                                 \n",
      " batch_normalization (BatchN  (None, 48, 48, 64)       256       \n",
      " ormalization)                                                   \n",
      "                                                                 \n",
      " max_pooling2d (MaxPooling2D  (None, 24, 24, 64)       0         \n",
      " )                                                               \n",
      "                                                                 \n",
      " dropout (Dropout)           (None, 24, 24, 64)        0         \n",
      "                                                                 \n",
      " conv2d_2 (Conv2D)           (None, 24, 24, 128)       204928    \n",
      "                                                                 \n",
      " batch_normalization_1 (Batc  (None, 24, 24, 128)      512       \n",
      " hNormalization)                                                 \n",
      "                                                                 \n",
      " max_pooling2d_1 (MaxPooling  (None, 12, 12, 128)      0         \n",
      " 2D)                                                             \n",
      "                                                                 \n",
      " dropout_1 (Dropout)         (None, 12, 12, 128)       0         \n",
      "                                                                 \n",
      " conv2d_3 (Conv2D)           (None, 12, 12, 512)       590336    \n",
      "                                                                 \n",
      " batch_normalization_2 (Batc  (None, 12, 12, 512)      2048      \n",
      " hNormalization)                                                 \n",
      "                                                                 \n",
      " max_pooling2d_2 (MaxPooling  (None, 6, 6, 512)        0         \n",
      " 2D)                                                             \n",
      "                                                                 \n",
      " dropout_2 (Dropout)         (None, 6, 6, 512)         0         \n",
      "                                                                 \n",
      " conv2d_4 (Conv2D)           (None, 6, 6, 512)         2359808   \n",
      "                                                                 \n",
      " batch_normalization_3 (Batc  (None, 6, 6, 512)        2048      \n",
      " hNormalization)                                                 \n",
      "                                                                 \n",
      " max_pooling2d_3 (MaxPooling  (None, 3, 3, 512)        0         \n",
      " 2D)                                                             \n",
      "                                                                 \n",
      " dropout_3 (Dropout)         (None, 3, 3, 512)         0         \n",
      "                                                                 \n",
      " flatten (Flatten)           (None, 4608)              0         \n",
      "                                                                 \n",
      " dense (Dense)               (None, 256)               1179904   \n",
      "                                                                 \n",
      " batch_normalization_4 (Batc  (None, 256)              1024      \n",
      " hNormalization)                                                 \n",
      "                                                                 \n",
      " dropout_4 (Dropout)         (None, 256)               0         \n",
      "                                                                 \n",
      " dense_1 (Dense)             (None, 512)               131584    \n",
      "                                                                 \n",
      " batch_normalization_5 (Batc  (None, 512)              2048      \n",
      " hNormalization)                                                 \n",
      "                                                                 \n",
      " dropout_5 (Dropout)         (None, 512)               0         \n",
      "                                                                 \n",
      " dense_2 (Dense)             (None, 7)                 3591      \n",
      "                                                                 \n",
      "=================================================================\n",
      "Total params: 4,496,903\n",
      "Trainable params: 4,492,935\n",
      "Non-trainable params: 3,968\n",
      "_________________________________________________________________\n"
     ]
    }
   ],
   "source": [
    "model.summary()"
   ]
  },
  {
   "cell_type": "code",
   "execution_count": 10,
   "metadata": {},
   "outputs": [
    {
     "name": "stdout",
     "output_type": "stream",
     "text": [
      "Epoch 1/60\n",
      "359/359 [==============================] - 38s 77ms/step - loss: 9.2794 - accuracy: 0.1923 - val_loss: 8.6859 - val_accuracy: 0.1760\n",
      "Epoch 2/60\n",
      "359/359 [==============================] - 26s 74ms/step - loss: 8.2687 - accuracy: 0.2273 - val_loss: 7.5507 - val_accuracy: 0.2675\n",
      "Epoch 3/60\n",
      "359/359 [==============================] - 28s 77ms/step - loss: 7.2835 - accuracy: 0.2512 - val_loss: 6.6235 - val_accuracy: 0.3003\n",
      "Epoch 4/60\n",
      "359/359 [==============================] - 27s 76ms/step - loss: 6.3237 - accuracy: 0.2754 - val_loss: 5.7956 - val_accuracy: 0.2877\n",
      "Epoch 5/60\n",
      "359/359 [==============================] - 26s 73ms/step - loss: 5.4368 - accuracy: 0.3024 - val_loss: 4.8364 - val_accuracy: 0.3680\n",
      "Epoch 6/60\n",
      "359/359 [==============================] - 27s 75ms/step - loss: 4.6695 - accuracy: 0.3332 - val_loss: 4.2020 - val_accuracy: 0.3736\n",
      "Epoch 7/60\n",
      "359/359 [==============================] - 27s 75ms/step - loss: 4.0184 - accuracy: 0.3605 - val_loss: 3.8226 - val_accuracy: 0.3701\n",
      "Epoch 8/60\n",
      "359/359 [==============================] - 27s 76ms/step - loss: 3.4964 - accuracy: 0.3808 - val_loss: 3.1280 - val_accuracy: 0.4420\n",
      "Epoch 9/60\n",
      "359/359 [==============================] - 29s 81ms/step - loss: 3.0842 - accuracy: 0.4061 - val_loss: 2.7522 - val_accuracy: 0.4665\n",
      "Epoch 10/60\n",
      "359/359 [==============================] - 28s 77ms/step - loss: 2.7512 - accuracy: 0.4230 - val_loss: 2.5450 - val_accuracy: 0.4791\n",
      "Epoch 11/60\n",
      "359/359 [==============================] - 26s 73ms/step - loss: 2.4895 - accuracy: 0.4478 - val_loss: 2.3228 - val_accuracy: 0.4825\n",
      "Epoch 12/60\n",
      "359/359 [==============================] - 27s 75ms/step - loss: 2.2930 - accuracy: 0.4652 - val_loss: 2.0864 - val_accuracy: 0.5384\n",
      "Epoch 13/60\n",
      "359/359 [==============================] - 26s 74ms/step - loss: 2.1289 - accuracy: 0.4854 - val_loss: 2.0018 - val_accuracy: 0.5279\n",
      "Epoch 14/60\n",
      "359/359 [==============================] - 30s 84ms/step - loss: 1.9953 - accuracy: 0.4996 - val_loss: 1.7997 - val_accuracy: 0.5517\n",
      "Epoch 15/60\n",
      "359/359 [==============================] - 29s 81ms/step - loss: 1.8861 - accuracy: 0.5143 - val_loss: 1.8030 - val_accuracy: 0.5503\n",
      "Epoch 16/60\n",
      "359/359 [==============================] - 26s 73ms/step - loss: 1.8047 - accuracy: 0.5258 - val_loss: 1.6677 - val_accuracy: 0.5594\n",
      "Epoch 17/60\n",
      "359/359 [==============================] - 26s 73ms/step - loss: 1.7496 - accuracy: 0.5303 - val_loss: 1.6399 - val_accuracy: 0.5747\n",
      "Epoch 18/60\n",
      "359/359 [==============================] - 27s 74ms/step - loss: 1.6878 - accuracy: 0.5448 - val_loss: 1.5498 - val_accuracy: 0.5978\n",
      "Epoch 19/60\n",
      "359/359 [==============================] - 29s 80ms/step - loss: 1.6328 - accuracy: 0.5515 - val_loss: 1.5272 - val_accuracy: 0.5838\n",
      "Epoch 20/60\n",
      "359/359 [==============================] - 29s 81ms/step - loss: 1.5900 - accuracy: 0.5627 - val_loss: 1.4817 - val_accuracy: 0.6110\n",
      "Epoch 21/60\n",
      "359/359 [==============================] - 27s 75ms/step - loss: 1.5631 - accuracy: 0.5688 - val_loss: 1.4591 - val_accuracy: 0.6110\n",
      "Epoch 22/60\n",
      "359/359 [==============================] - 26s 73ms/step - loss: 1.5238 - accuracy: 0.5759 - val_loss: 1.4381 - val_accuracy: 0.6152\n",
      "Epoch 23/60\n",
      "359/359 [==============================] - 27s 75ms/step - loss: 1.5109 - accuracy: 0.5748 - val_loss: 1.4625 - val_accuracy: 0.5964\n",
      "Epoch 24/60\n",
      "359/359 [==============================] - 29s 80ms/step - loss: 1.4909 - accuracy: 0.5827 - val_loss: 1.4236 - val_accuracy: 0.6075\n",
      "Epoch 25/60\n",
      "359/359 [==============================] - 29s 81ms/step - loss: 1.4764 - accuracy: 0.5900 - val_loss: 1.4434 - val_accuracy: 0.6041\n",
      "Epoch 26/60\n",
      "359/359 [==============================] - 28s 77ms/step - loss: 1.4650 - accuracy: 0.5920 - val_loss: 1.4011 - val_accuracy: 0.6278\n",
      "Epoch 27/60\n",
      "359/359 [==============================] - 27s 76ms/step - loss: 1.4491 - accuracy: 0.6035 - val_loss: 1.4306 - val_accuracy: 0.6061\n",
      "Epoch 28/60\n",
      "359/359 [==============================] - 36s 100ms/step - loss: 1.4412 - accuracy: 0.6020 - val_loss: 1.4130 - val_accuracy: 0.6264\n",
      "Epoch 29/60\n",
      "359/359 [==============================] - 41s 114ms/step - loss: 1.4325 - accuracy: 0.6058 - val_loss: 1.3947 - val_accuracy: 0.6264\n",
      "Epoch 30/60\n",
      "359/359 [==============================] - 39s 109ms/step - loss: 1.4263 - accuracy: 0.6101 - val_loss: 1.4057 - val_accuracy: 0.6208\n",
      "Epoch 31/60\n",
      "359/359 [==============================] - 45s 126ms/step - loss: 1.4156 - accuracy: 0.6123 - val_loss: 1.3760 - val_accuracy: 0.6327\n",
      "Epoch 32/60\n",
      "359/359 [==============================] - 42s 117ms/step - loss: 1.4079 - accuracy: 0.6153 - val_loss: 1.3491 - val_accuracy: 0.6494\n",
      "Epoch 33/60\n",
      "359/359 [==============================] - 43s 120ms/step - loss: 1.3982 - accuracy: 0.6231 - val_loss: 1.3952 - val_accuracy: 0.6285\n",
      "Epoch 34/60\n",
      "359/359 [==============================] - 39s 108ms/step - loss: 1.3979 - accuracy: 0.6243 - val_loss: 1.3812 - val_accuracy: 0.6264\n",
      "Epoch 35/60\n",
      "359/359 [==============================] - 29s 80ms/step - loss: 1.3849 - accuracy: 0.6287 - val_loss: 1.3284 - val_accuracy: 0.6501\n",
      "Epoch 36/60\n",
      "359/359 [==============================] - 28s 77ms/step - loss: 1.3849 - accuracy: 0.6312 - val_loss: 1.3772 - val_accuracy: 0.6334\n",
      "Epoch 37/60\n",
      "359/359 [==============================] - 29s 81ms/step - loss: 1.3783 - accuracy: 0.6285 - val_loss: 1.3218 - val_accuracy: 0.6501\n",
      "Epoch 38/60\n",
      "359/359 [==============================] - 30s 84ms/step - loss: 1.3749 - accuracy: 0.6323 - val_loss: 1.3629 - val_accuracy: 0.6473\n",
      "Epoch 39/60\n",
      "359/359 [==============================] - 29s 80ms/step - loss: 1.3777 - accuracy: 0.6360 - val_loss: 1.3774 - val_accuracy: 0.6348\n",
      "Epoch 40/60\n",
      "359/359 [==============================] - 26s 74ms/step - loss: 1.3722 - accuracy: 0.6416 - val_loss: 1.3491 - val_accuracy: 0.6578\n",
      "Epoch 41/60\n",
      "359/359 [==============================] - 27s 76ms/step - loss: 1.3751 - accuracy: 0.6358 - val_loss: 1.3338 - val_accuracy: 0.6543\n",
      "Epoch 42/60\n",
      "359/359 [==============================] - 28s 77ms/step - loss: 1.3716 - accuracy: 0.6391 - val_loss: 1.3851 - val_accuracy: 0.6264\n",
      "Epoch 43/60\n",
      "359/359 [==============================] - 31s 85ms/step - loss: 1.3596 - accuracy: 0.6424 - val_loss: 1.4056 - val_accuracy: 0.6348\n",
      "Epoch 44/60\n",
      "359/359 [==============================] - 29s 81ms/step - loss: 1.3553 - accuracy: 0.6461 - val_loss: 1.4031 - val_accuracy: 0.6257\n",
      "Epoch 45/60\n",
      "359/359 [==============================] - 26s 73ms/step - loss: 1.3506 - accuracy: 0.6493 - val_loss: 1.3857 - val_accuracy: 0.6355\n",
      "Epoch 46/60\n",
      "359/359 [==============================] - 27s 74ms/step - loss: 1.3470 - accuracy: 0.6508 - val_loss: 1.4264 - val_accuracy: 0.6334\n",
      "Epoch 47/60\n",
      "359/359 [==============================] - 27s 75ms/step - loss: 1.3507 - accuracy: 0.6503 - val_loss: 1.3624 - val_accuracy: 0.6620\n",
      "Epoch 48/60\n",
      "359/359 [==============================] - 30s 84ms/step - loss: 1.3498 - accuracy: 0.6508 - val_loss: 1.3869 - val_accuracy: 0.6418\n",
      "Epoch 49/60\n",
      "359/359 [==============================] - 29s 81ms/step - loss: 1.3420 - accuracy: 0.6559 - val_loss: 1.3720 - val_accuracy: 0.6662\n",
      "Epoch 50/60\n",
      "359/359 [==============================] - 27s 75ms/step - loss: 1.3445 - accuracy: 0.6594 - val_loss: 1.3669 - val_accuracy: 0.6655\n",
      "Epoch 51/60\n",
      "359/359 [==============================] - 27s 74ms/step - loss: 1.3462 - accuracy: 0.6568 - val_loss: 1.4031 - val_accuracy: 0.6369\n",
      "Epoch 52/60\n",
      "359/359 [==============================] - 27s 75ms/step - loss: 1.3465 - accuracy: 0.6580 - val_loss: 1.3336 - val_accuracy: 0.6620\n",
      "Epoch 53/60\n",
      "359/359 [==============================] - 30s 83ms/step - loss: 1.3284 - accuracy: 0.6643 - val_loss: 1.3957 - val_accuracy: 0.6571\n",
      "Epoch 54/60\n",
      "359/359 [==============================] - 29s 82ms/step - loss: 1.3372 - accuracy: 0.6658 - val_loss: 1.3994 - val_accuracy: 0.6578\n",
      "Epoch 55/60\n",
      "359/359 [==============================] - 28s 77ms/step - loss: 1.3483 - accuracy: 0.6602 - val_loss: 1.3678 - val_accuracy: 0.6655\n",
      "Epoch 56/60\n",
      "359/359 [==============================] - 27s 74ms/step - loss: 1.3398 - accuracy: 0.6660 - val_loss: 1.3720 - val_accuracy: 0.6550\n",
      "Epoch 57/60\n"
     ]
    },
    {
     "name": "stdout",
     "output_type": "stream",
     "text": [
      "359/359 [==============================] - 27s 74ms/step - loss: 1.3350 - accuracy: 0.6673 - val_loss: 1.3767 - val_accuracy: 0.6683\n",
      "Epoch 58/60\n",
      "359/359 [==============================] - 34s 94ms/step - loss: 1.3295 - accuracy: 0.6661 - val_loss: 1.4156 - val_accuracy: 0.6564\n",
      "Epoch 59/60\n",
      "359/359 [==============================] - 29s 82ms/step - loss: 1.3289 - accuracy: 0.6681 - val_loss: 1.3714 - val_accuracy: 0.6711\n",
      "Epoch 60/60\n",
      "359/359 [==============================] - 27s 75ms/step - loss: 1.3359 - accuracy: 0.6664 - val_loss: 1.3723 - val_accuracy: 0.6774\n"
     ]
    }
   ],
   "source": [
    "history = model.fit(x = train_generator,epochs = epochs,validation_data = validation_generator)"
   ]
  },
  {
   "cell_type": "code",
   "execution_count": null,
   "metadata": {},
   "outputs": [],
   "source": [
    "fig , ax = plt.subplots(1,2)\n",
    "train_acc = history.history['accuracy']\n",
    "train_loss = history.history['loss']\n",
    "fig.set_size_inches(12,4)\n",
    "\n",
    "ax[0].plot(history.history['accuracy'])\n",
    "ax[0].plot(history.history['val_accuracy'])\n",
    "ax[0].set_title('Training Accuracy vs Validation Accuracy')\n",
    "ax[0].set_ylabel('Accuracy')\n",
    "ax[0].set_xlabel('Epoch')\n",
    "ax[0].legend(['Train', 'Validation'], loc='upper left')\n",
    "\n",
    "ax[1].plot(history.history['loss'])\n",
    "ax[1].plot(history.history['val_loss'])\n",
    "ax[1].set_title('Training Loss vs Validation Loss')\n",
    "ax[1].set_ylabel('Loss')\n",
    "ax[1].set_xlabel('Epoch')\n",
    "ax[1].legend(['Train', 'Validation'], loc='upper left')\n",
    "\n",
    "plt.show()"
   ]
  },
  {
   "cell_type": "code",
   "execution_count": null,
   "metadata": {},
   "outputs": [],
   "source": [
    "model.save('model_optimal.h5')"
   ]
  },
  {
   "cell_type": "code",
   "execution_count": null,
   "metadata": {},
   "outputs": [],
   "source": [
    "img = image.load_img(\"../input/emotion-detection-fer/test/happy/im1021.png\",target_size = (48,48),color_mode = \"grayscale\")\n",
    "img = np.array(img)\n",
    "plt.imshow(img)\n",
    "print(img.shape) #prints (48,48) that is the shape of our image"
   ]
  },
  {
   "cell_type": "code",
   "execution_count": null,
   "metadata": {},
   "outputs": [],
   "source": [
    "label_dict = {0:'Angry',1:'Disgust',2:'Fear',3:'Happy',4:'Neutral',5:'Sad',6:'Surprise'}"
   ]
  },
  {
   "cell_type": "code",
   "execution_count": null,
   "metadata": {},
   "outputs": [],
   "source": [
    "img = np.expand_dims(img,axis = 0) #makes image shape (1,48,48)\n",
    "img = img.reshape(1,48,48,1)\n",
    "result = model.predict(img)\n",
    "result = list(result[0])\n",
    "print(result)"
   ]
  },
  {
   "cell_type": "code",
   "execution_count": null,
   "metadata": {},
   "outputs": [],
   "source": [
    "img_index = result.index(max(result))\n",
    "print(label_dict[img_index])\n",
    "plt.show()"
   ]
  },
  {
   "cell_type": "code",
   "execution_count": null,
   "metadata": {},
   "outputs": [],
   "source": [
    "train_loss, train_acc = model.evaluate(train_generator)\n",
    "test_loss, test_acc   = model.evaluate(validation_generator)\n",
    "print(\"final train accuracy = {:.2f} , validation accuracy = {:.2f}\".format(train_acc*100, test_acc*100))"
   ]
  },
  {
   "cell_type": "code",
   "execution_count": null,
   "metadata": {},
   "outputs": [],
   "source": [
    "model.save_weights('model_weights.h5')"
   ]
  },
  {
   "cell_type": "code",
   "execution_count": null,
   "metadata": {},
   "outputs": [],
   "source": []
  }
 ],
 "metadata": {
  "kernelspec": {
   "display_name": "Python 3 (ipykernel)",
   "language": "python",
   "name": "python3"
  },
  "language_info": {
   "codemirror_mode": {
    "name": "ipython",
    "version": 3
   },
   "file_extension": ".py",
   "mimetype": "text/x-python",
   "name": "python",
   "nbconvert_exporter": "python",
   "pygments_lexer": "ipython3",
   "version": "3.9.5"
  }
 },
 "nbformat": 4,
 "nbformat_minor": 4
}
